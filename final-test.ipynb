{
 "cells": [
  {
   "cell_type": "code",
   "execution_count": 24,
   "metadata": {},
   "outputs": [],
   "source": [
    "import pandas as pd\n",
    "from langchain import LLMChain, Cohere\n",
    "from langchain.agents import create_csv_agent\n",
    "from langchain.llms import Cohere\n",
    "from langchain.chat_models import ChatOpenAI\n",
    "from langchain.agents.agent_types import AgentType\n",
    "from langchain.memory import ConversationBufferMemory\n",
    "from langchain.agents import Tool\n",
    "from langchain.utilities import SerpAPIWrapper\n",
    "from langchain.agents import initialize_agent\n",
    "from langchain.agents import create_pandas_dataframe_agent"
   ]
  },
  {
   "cell_type": "code",
   "execution_count": null,
   "metadata": {},
   "outputs": [],
   "source": [
    "COHERE_API_KEY = \"CggzsdnWH6QXtnGJvKYe4IRZyGZ8UkTSykpmAigW\"\n",
    "SERPAPI_API_KEY = \"dbc53dd88c7b0957548a81fa162e2d547e03cc19267162a9166e52d4e882f361\""
   ]
  },
  {
   "cell_type": "code",
   "execution_count": null,
   "metadata": {},
   "outputs": [],
   "source": [
    "search = SerpAPIWrapper(serpapi_api_key=SERPAPI_API_KEY)\n",
    "tools = [\n",
    "    Tool(\n",
    "        name=\"Current Search\",\n",
    "        func=search.run,\n",
    "        description=\"useful for when you need to answer questions about current events or the current state of the world\",\n",
    "    ),\n",
    "]\n",
    "\n",
    "memory = ConversationBufferMemory(memory_key=\"chat_history\")"
   ]
  },
  {
   "cell_type": "code",
   "execution_count": null,
   "metadata": {},
   "outputs": [],
   "source": [
    "def chat_with_categorized_data(prompt: str):\n",
    "    agent = create_csv_agent(\n",
    "        Cohere(model=\"command-xlarge-nightly\", cohere_api_key=COHERE_API_KEY),\n",
    "        \"./unique_category.csv\",\n",
    "        verbose=True,\n",
    "        agent_type=AgentType.ZERO_SHOT_REACT_DESCRIPTION,\n",
    "        memory=memory,\n",
    "    )\n",
    "\n",
    "    response = agent.run(\n",
    "        input=prompt\n",
    "        + \"If the answer is generic then return: general else return the closest match to the user interaction. I need only the closest match of the category or general as the output and nothing else...\"\n",
    "    )\n",
    "    return response"
   ]
  },
  {
   "cell_type": "code",
   "execution_count": null,
   "metadata": {},
   "outputs": [],
   "source": [
    "def filter_dataframe_by_category(data, input_category):\n",
    "    if isinstance(input_category, str):\n",
    "        # If input is a string, filter by that single category\n",
    "        filtered_df = data[data[\"category\"] == input_category]\n",
    "    elif isinstance(input_category, list):\n",
    "        # If input is a list, filter by multiple categories\n",
    "        filtered_df = data[data[\"category\"].isin(input_category)]\n",
    "    else:\n",
    "        raise ValueError(\"Input must be a string or a list\")\n",
    "\n",
    "    return filtered_df"
   ]
  },
  {
   "cell_type": "code",
   "execution_count": null,
   "metadata": {},
   "outputs": [],
   "source": [
    "def chat_with_filtered_data(filtered_df: pd.DataFrame, category: str):\n",
    "    # agent = create_pandas_dataframe_agent(\n",
    "    #     ChatOpenAI(\n",
    "    #         temperature=0, model=\"gpt-3.5-turbo-0613\", openai_api_key=OPENAI_API_KEY\n",
    "    #     ),\n",
    "    #     filtered_df,\n",
    "    #     verbose=True,\n",
    "    #     agent_type=AgentType.OPENAI_FUNCTIONS,\n",
    "    # )\n",
    "\n",
    "    co = Cohere(auth_token=COHERE_API_KEY)\n",
    "    agent = create_pandas_dataframe_agent(\n",
    "        llm=LLMChain(llm=co),\n",
    "        dataframe=filtered_df,\n",
    "        agent_type=\"cohere-functions\",\n",
    "        verbose=True,\n",
    "    )\n",
    "\n",
    "    response = agent.run(\n",
    "        \"Give a convincing answer to the user in such a way assuming that this is the latest trend as well as of the future.\"\n",
    "    )\n",
    "    return response"
   ]
  },
  {
   "cell_type": "code",
   "execution_count": null,
   "metadata": {},
   "outputs": [],
   "source": [
    "def get_chat_output():\n",
    "    prompt = \"What are the latest trends of 2023 for women in tech...\"\n",
    "    if len(prompt) < 0:\n",
    "        return {\"response\": \"Please provide a valid prompt.\"}\n",
    "\n",
    "    data = pd.read_csv(\"./data.csv\")\n",
    "    data.drop([\"asin\", \"id\"], axis=1, inplace=True)\n",
    "    data[\"category\"] = data[\"purl\"].apply(lambda x: x.split(\"/\")[-5])\n",
    "\n",
    "    ans = chat_with_categorized_data(prompt)\n",
    "\n",
    "    filtered_df = filter_dataframe_by_category(data, ans)\n",
    "    filtered_df.drop([\"img\", \"purl\"], axis=1, inplace=True)\n",
    "\n",
    "    final_response = chat_with_filtered_data(filtered_df, ans)\n",
    "\n",
    "    return final_response"
   ]
  },
  {
   "cell_type": "code",
   "execution_count": 29,
   "metadata": {},
   "outputs": [
    {
     "name": "stdout",
     "output_type": "stream",
     "text": [
      "\n",
      "\n",
      "\u001b[1m> Entering new AgentExecutor chain...\u001b[0m\n"
     ]
    },
    {
     "ename": "OutputParserException",
     "evalue": "Could not parse LLM output: ` The latest fashion trends for women in tech in 2023 are:\n\n1. Athleisure: A fusion of athletic and leisure clothing, athleisure is a comfortable and stylish option for women in tech. Look for clothing that is designed for both comfort and style, such as leggings, hoodies, and sneakers.\n\n2. Minimalist Fashion: A minimalist approach to fashion, this trend focuses on clean lines, neutral colors, and a timeless style. Look for clothing that is simple and classic, with a focus on quality and versatility.\n\n3. Monochromatic Outfits: A sleek and professional look, monochromatic outfits are a great way to show off your style while also being functional and comfortable. Choose a single color and mix and match different shades and textures to create a cohesive and stylish look.\n\n4. Tech-Inspired Fashion: Embrace your tech-inspired fashion with clothing that features unique and innovative designs inspired by technology. Look for clothing that incorporates elements such as circuit boards, computer chips, or other tech-inspired patterns.\n\n5. Sustainable Fashion: With a focus on sustainability and environmental responsibility, many fashion brands are incorporating eco-friendly materials and practices into their collections. Look for clothing made from recycled materials, organic cotton, or other sustainable fabrics.\n\nRemember to always choose clothing that makes you feel comfortable and confident, and to have fun with your style!`",
     "output_type": "error",
     "traceback": [
      "\u001b[0;31m---------------------------------------------------------------------------\u001b[0m",
      "\u001b[0;31mOutputParserException\u001b[0m                     Traceback (most recent call last)",
      "Cell \u001b[0;32mIn[29], line 12\u001b[0m\n\u001b[1;32m      2\u001b[0m llm \u001b[39m=\u001b[39m Cohere(\n\u001b[1;32m      3\u001b[0m     cohere_api_key\u001b[39m=\u001b[39mCOHERE_API_KEY, model\u001b[39m=\u001b[39m\u001b[39m\"\u001b[39m\u001b[39mcommand-xlarge-nightly\u001b[39m\u001b[39m\"\u001b[39m, max_tokens\u001b[39m=\u001b[39m\u001b[39m3000\u001b[39m\n\u001b[1;32m      4\u001b[0m )\n\u001b[1;32m      5\u001b[0m agent_chain \u001b[39m=\u001b[39m initialize_agent(\n\u001b[1;32m      6\u001b[0m     tools,\n\u001b[1;32m      7\u001b[0m     llm,\n\u001b[0;32m   (...)\u001b[0m\n\u001b[1;32m     10\u001b[0m     memory\u001b[39m=\u001b[39mmemory,\n\u001b[1;32m     11\u001b[0m )\n\u001b[0;32m---> 12\u001b[0m agent_chain\u001b[39m.\u001b[39;49mrun(\u001b[39minput\u001b[39;49m\u001b[39m=\u001b[39;49mprompt)\n",
      "File \u001b[0;32m~/Documents/walmart-sparkathon-2023/venv/lib/python3.9/site-packages/langchain/chains/base.py:456\u001b[0m, in \u001b[0;36mChain.run\u001b[0;34m(self, callbacks, tags, metadata, *args, **kwargs)\u001b[0m\n\u001b[1;32m    451\u001b[0m     \u001b[39mreturn\u001b[39;00m \u001b[39mself\u001b[39m(args[\u001b[39m0\u001b[39m], callbacks\u001b[39m=\u001b[39mcallbacks, tags\u001b[39m=\u001b[39mtags, metadata\u001b[39m=\u001b[39mmetadata)[\n\u001b[1;32m    452\u001b[0m         _output_key\n\u001b[1;32m    453\u001b[0m     ]\n\u001b[1;32m    455\u001b[0m \u001b[39mif\u001b[39;00m kwargs \u001b[39mand\u001b[39;00m \u001b[39mnot\u001b[39;00m args:\n\u001b[0;32m--> 456\u001b[0m     \u001b[39mreturn\u001b[39;00m \u001b[39mself\u001b[39;49m(kwargs, callbacks\u001b[39m=\u001b[39;49mcallbacks, tags\u001b[39m=\u001b[39;49mtags, metadata\u001b[39m=\u001b[39;49mmetadata)[\n\u001b[1;32m    457\u001b[0m         _output_key\n\u001b[1;32m    458\u001b[0m     ]\n\u001b[1;32m    460\u001b[0m \u001b[39mif\u001b[39;00m \u001b[39mnot\u001b[39;00m kwargs \u001b[39mand\u001b[39;00m \u001b[39mnot\u001b[39;00m args:\n\u001b[1;32m    461\u001b[0m     \u001b[39mraise\u001b[39;00m \u001b[39mValueError\u001b[39;00m(\n\u001b[1;32m    462\u001b[0m         \u001b[39m\"\u001b[39m\u001b[39m`run` supported with either positional arguments or keyword arguments,\u001b[39m\u001b[39m\"\u001b[39m\n\u001b[1;32m    463\u001b[0m         \u001b[39m\"\u001b[39m\u001b[39m but none were provided.\u001b[39m\u001b[39m\"\u001b[39m\n\u001b[1;32m    464\u001b[0m     )\n",
      "File \u001b[0;32m~/Documents/walmart-sparkathon-2023/venv/lib/python3.9/site-packages/langchain/chains/base.py:258\u001b[0m, in \u001b[0;36mChain.__call__\u001b[0;34m(self, inputs, return_only_outputs, callbacks, tags, metadata, include_run_info)\u001b[0m\n\u001b[1;32m    256\u001b[0m \u001b[39mexcept\u001b[39;00m (\u001b[39mKeyboardInterrupt\u001b[39;00m, \u001b[39mException\u001b[39;00m) \u001b[39mas\u001b[39;00m e:\n\u001b[1;32m    257\u001b[0m     run_manager\u001b[39m.\u001b[39mon_chain_error(e)\n\u001b[0;32m--> 258\u001b[0m     \u001b[39mraise\u001b[39;00m e\n\u001b[1;32m    259\u001b[0m run_manager\u001b[39m.\u001b[39mon_chain_end(outputs)\n\u001b[1;32m    260\u001b[0m final_outputs: Dict[\u001b[39mstr\u001b[39m, Any] \u001b[39m=\u001b[39m \u001b[39mself\u001b[39m\u001b[39m.\u001b[39mprep_outputs(\n\u001b[1;32m    261\u001b[0m     inputs, outputs, return_only_outputs\n\u001b[1;32m    262\u001b[0m )\n",
      "File \u001b[0;32m~/Documents/walmart-sparkathon-2023/venv/lib/python3.9/site-packages/langchain/chains/base.py:252\u001b[0m, in \u001b[0;36mChain.__call__\u001b[0;34m(self, inputs, return_only_outputs, callbacks, tags, metadata, include_run_info)\u001b[0m\n\u001b[1;32m    246\u001b[0m run_manager \u001b[39m=\u001b[39m callback_manager\u001b[39m.\u001b[39mon_chain_start(\n\u001b[1;32m    247\u001b[0m     dumpd(\u001b[39mself\u001b[39m),\n\u001b[1;32m    248\u001b[0m     inputs,\n\u001b[1;32m    249\u001b[0m )\n\u001b[1;32m    250\u001b[0m \u001b[39mtry\u001b[39;00m:\n\u001b[1;32m    251\u001b[0m     outputs \u001b[39m=\u001b[39m (\n\u001b[0;32m--> 252\u001b[0m         \u001b[39mself\u001b[39;49m\u001b[39m.\u001b[39;49m_call(inputs, run_manager\u001b[39m=\u001b[39;49mrun_manager)\n\u001b[1;32m    253\u001b[0m         \u001b[39mif\u001b[39;00m new_arg_supported\n\u001b[1;32m    254\u001b[0m         \u001b[39melse\u001b[39;00m \u001b[39mself\u001b[39m\u001b[39m.\u001b[39m_call(inputs)\n\u001b[1;32m    255\u001b[0m     )\n\u001b[1;32m    256\u001b[0m \u001b[39mexcept\u001b[39;00m (\u001b[39mKeyboardInterrupt\u001b[39;00m, \u001b[39mException\u001b[39;00m) \u001b[39mas\u001b[39;00m e:\n\u001b[1;32m    257\u001b[0m     run_manager\u001b[39m.\u001b[39mon_chain_error(e)\n",
      "File \u001b[0;32m~/Documents/walmart-sparkathon-2023/venv/lib/python3.9/site-packages/langchain/agents/agent.py:1035\u001b[0m, in \u001b[0;36mAgentExecutor._call\u001b[0;34m(self, inputs, run_manager)\u001b[0m\n\u001b[1;32m   1033\u001b[0m \u001b[39m# We now enter the agent loop (until it returns something).\u001b[39;00m\n\u001b[1;32m   1034\u001b[0m \u001b[39mwhile\u001b[39;00m \u001b[39mself\u001b[39m\u001b[39m.\u001b[39m_should_continue(iterations, time_elapsed):\n\u001b[0;32m-> 1035\u001b[0m     next_step_output \u001b[39m=\u001b[39m \u001b[39mself\u001b[39;49m\u001b[39m.\u001b[39;49m_take_next_step(\n\u001b[1;32m   1036\u001b[0m         name_to_tool_map,\n\u001b[1;32m   1037\u001b[0m         color_mapping,\n\u001b[1;32m   1038\u001b[0m         inputs,\n\u001b[1;32m   1039\u001b[0m         intermediate_steps,\n\u001b[1;32m   1040\u001b[0m         run_manager\u001b[39m=\u001b[39;49mrun_manager,\n\u001b[1;32m   1041\u001b[0m     )\n\u001b[1;32m   1042\u001b[0m     \u001b[39mif\u001b[39;00m \u001b[39misinstance\u001b[39m(next_step_output, AgentFinish):\n\u001b[1;32m   1043\u001b[0m         \u001b[39mreturn\u001b[39;00m \u001b[39mself\u001b[39m\u001b[39m.\u001b[39m_return(\n\u001b[1;32m   1044\u001b[0m             next_step_output, intermediate_steps, run_manager\u001b[39m=\u001b[39mrun_manager\n\u001b[1;32m   1045\u001b[0m         )\n",
      "File \u001b[0;32m~/Documents/walmart-sparkathon-2023/venv/lib/python3.9/site-packages/langchain/agents/agent.py:843\u001b[0m, in \u001b[0;36mAgentExecutor._take_next_step\u001b[0;34m(self, name_to_tool_map, color_mapping, inputs, intermediate_steps, run_manager)\u001b[0m\n\u001b[1;32m    841\u001b[0m     raise_error \u001b[39m=\u001b[39m \u001b[39mFalse\u001b[39;00m\n\u001b[1;32m    842\u001b[0m \u001b[39mif\u001b[39;00m raise_error:\n\u001b[0;32m--> 843\u001b[0m     \u001b[39mraise\u001b[39;00m e\n\u001b[1;32m    844\u001b[0m text \u001b[39m=\u001b[39m \u001b[39mstr\u001b[39m(e)\n\u001b[1;32m    845\u001b[0m \u001b[39mif\u001b[39;00m \u001b[39misinstance\u001b[39m(\u001b[39mself\u001b[39m\u001b[39m.\u001b[39mhandle_parsing_errors, \u001b[39mbool\u001b[39m):\n",
      "File \u001b[0;32m~/Documents/walmart-sparkathon-2023/venv/lib/python3.9/site-packages/langchain/agents/agent.py:832\u001b[0m, in \u001b[0;36mAgentExecutor._take_next_step\u001b[0;34m(self, name_to_tool_map, color_mapping, inputs, intermediate_steps, run_manager)\u001b[0m\n\u001b[1;32m    829\u001b[0m     intermediate_steps \u001b[39m=\u001b[39m \u001b[39mself\u001b[39m\u001b[39m.\u001b[39m_prepare_intermediate_steps(intermediate_steps)\n\u001b[1;32m    831\u001b[0m     \u001b[39m# Call the LLM to see what to do.\u001b[39;00m\n\u001b[0;32m--> 832\u001b[0m     output \u001b[39m=\u001b[39m \u001b[39mself\u001b[39;49m\u001b[39m.\u001b[39;49magent\u001b[39m.\u001b[39;49mplan(\n\u001b[1;32m    833\u001b[0m         intermediate_steps,\n\u001b[1;32m    834\u001b[0m         callbacks\u001b[39m=\u001b[39;49mrun_manager\u001b[39m.\u001b[39;49mget_child() \u001b[39mif\u001b[39;49;00m run_manager \u001b[39melse\u001b[39;49;00m \u001b[39mNone\u001b[39;49;00m,\n\u001b[1;32m    835\u001b[0m         \u001b[39m*\u001b[39;49m\u001b[39m*\u001b[39;49minputs,\n\u001b[1;32m    836\u001b[0m     )\n\u001b[1;32m    837\u001b[0m \u001b[39mexcept\u001b[39;00m OutputParserException \u001b[39mas\u001b[39;00m e:\n\u001b[1;32m    838\u001b[0m     \u001b[39mif\u001b[39;00m \u001b[39misinstance\u001b[39m(\u001b[39mself\u001b[39m\u001b[39m.\u001b[39mhandle_parsing_errors, \u001b[39mbool\u001b[39m):\n",
      "File \u001b[0;32m~/Documents/walmart-sparkathon-2023/venv/lib/python3.9/site-packages/langchain/agents/agent.py:457\u001b[0m, in \u001b[0;36mAgent.plan\u001b[0;34m(self, intermediate_steps, callbacks, **kwargs)\u001b[0m\n\u001b[1;32m    455\u001b[0m full_inputs \u001b[39m=\u001b[39m \u001b[39mself\u001b[39m\u001b[39m.\u001b[39mget_full_inputs(intermediate_steps, \u001b[39m*\u001b[39m\u001b[39m*\u001b[39mkwargs)\n\u001b[1;32m    456\u001b[0m full_output \u001b[39m=\u001b[39m \u001b[39mself\u001b[39m\u001b[39m.\u001b[39mllm_chain\u001b[39m.\u001b[39mpredict(callbacks\u001b[39m=\u001b[39mcallbacks, \u001b[39m*\u001b[39m\u001b[39m*\u001b[39mfull_inputs)\n\u001b[0;32m--> 457\u001b[0m \u001b[39mreturn\u001b[39;00m \u001b[39mself\u001b[39;49m\u001b[39m.\u001b[39;49moutput_parser\u001b[39m.\u001b[39;49mparse(full_output)\n",
      "File \u001b[0;32m~/Documents/walmart-sparkathon-2023/venv/lib/python3.9/site-packages/langchain/agents/conversational/output_parser.py:26\u001b[0m, in \u001b[0;36mConvoOutputParser.parse\u001b[0;34m(self, text)\u001b[0m\n\u001b[1;32m     24\u001b[0m match \u001b[39m=\u001b[39m re\u001b[39m.\u001b[39msearch(regex, text)\n\u001b[1;32m     25\u001b[0m \u001b[39mif\u001b[39;00m \u001b[39mnot\u001b[39;00m match:\n\u001b[0;32m---> 26\u001b[0m     \u001b[39mraise\u001b[39;00m OutputParserException(\u001b[39mf\u001b[39m\u001b[39m\"\u001b[39m\u001b[39mCould not parse LLM output: `\u001b[39m\u001b[39m{\u001b[39;00mtext\u001b[39m}\u001b[39;00m\u001b[39m`\u001b[39m\u001b[39m\"\u001b[39m)\n\u001b[1;32m     27\u001b[0m action \u001b[39m=\u001b[39m match\u001b[39m.\u001b[39mgroup(\u001b[39m1\u001b[39m)\n\u001b[1;32m     28\u001b[0m action_input \u001b[39m=\u001b[39m match\u001b[39m.\u001b[39mgroup(\u001b[39m2\u001b[39m)\n",
      "\u001b[0;31mOutputParserException\u001b[0m: Could not parse LLM output: ` The latest fashion trends for women in tech in 2023 are:\n\n1. Athleisure: A fusion of athletic and leisure clothing, athleisure is a comfortable and stylish option for women in tech. Look for clothing that is designed for both comfort and style, such as leggings, hoodies, and sneakers.\n\n2. Minimalist Fashion: A minimalist approach to fashion, this trend focuses on clean lines, neutral colors, and a timeless style. Look for clothing that is simple and classic, with a focus on quality and versatility.\n\n3. Monochromatic Outfits: A sleek and professional look, monochromatic outfits are a great way to show off your style while also being functional and comfortable. Choose a single color and mix and match different shades and textures to create a cohesive and stylish look.\n\n4. Tech-Inspired Fashion: Embrace your tech-inspired fashion with clothing that features unique and innovative designs inspired by technology. Look for clothing that incorporates elements such as circuit boards, computer chips, or other tech-inspired patterns.\n\n5. Sustainable Fashion: With a focus on sustainability and environmental responsibility, many fashion brands are incorporating eco-friendly materials and practices into their collections. Look for clothing made from recycled materials, organic cotton, or other sustainable fabrics.\n\nRemember to always choose clothing that makes you feel comfortable and confident, and to have fun with your style!`"
     ]
    }
   ],
   "source": [
    "prompt = \"What are the latest fashion trends of 2023 for women in tech...\"\n",
    "llm = Cohere(\n",
    "    cohere_api_key=COHERE_API_KEY, model=\"command-xlarge-nightly\", max_tokens=3000\n",
    ")\n",
    "agent_chain = initialize_agent(\n",
    "    tools,\n",
    "    llm,\n",
    "    agent=AgentType.CONVERSATIONAL_REACT_DESCRIPTION,\n",
    "    verbose=True,\n",
    "    memory=memory,\n",
    ")\n",
    "agent_chain.run(input=prompt)"
   ]
  },
  {
   "cell_type": "code",
   "execution_count": null,
   "metadata": {},
   "outputs": [],
   "source": []
  }
 ],
 "metadata": {
  "kernelspec": {
   "display_name": "venv",
   "language": "python",
   "name": "python3"
  },
  "language_info": {
   "codemirror_mode": {
    "name": "ipython",
    "version": 3
   },
   "file_extension": ".py",
   "mimetype": "text/x-python",
   "name": "python",
   "nbconvert_exporter": "python",
   "pygments_lexer": "ipython3",
   "version": "3.9.13"
  },
  "orig_nbformat": 4
 },
 "nbformat": 4,
 "nbformat_minor": 2
}
