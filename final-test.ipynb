{
 "cells": [
  {
   "cell_type": "code",
   "execution_count": 1,
   "metadata": {},
   "outputs": [],
   "source": [
    "from langchain import Cohere\n",
    "from langchain.llms import Cohere\n",
    "from langchain.agents.agent_types import AgentType\n",
    "from langchain.memory import ConversationBufferMemory\n",
    "from langchain.agents import Tool\n",
    "from langchain.utilities import SerpAPIWrapper\n",
    "from langchain.agents import initialize_agent"
   ]
  },
  {
   "cell_type": "code",
   "execution_count": 2,
   "metadata": {},
   "outputs": [],
   "source": [
    "COHERE_API_KEY = \"CggzsdnWH6QXtnGJvKYe4IRZyGZ8UkTSykpmAigW\"\n",
    "SERPAPI_API_KEY = \"dbc53dd88c7b0957548a81fa162e2d547e03cc19267162a9166e52d4e882f361\""
   ]
  },
  {
   "cell_type": "code",
   "execution_count": 3,
   "metadata": {},
   "outputs": [],
   "source": [
    "search = SerpAPIWrapper(serpapi_api_key=SERPAPI_API_KEY)\n",
    "tools = [\n",
    "    Tool(\n",
    "        name=\"Current Search\",\n",
    "        func=search.run,\n",
    "        description=\"Consider your self as a time travel bot, useful for when you need to answer questions about current events or the current state of the world\",\n",
    "    ),\n",
    "]\n",
    "\n",
    "memory = ConversationBufferMemory(memory_key=\"chat_history\")"
   ]
  },
  {
   "cell_type": "code",
   "execution_count": 4,
   "metadata": {},
   "outputs": [],
   "source": [
    "def get_chat_output():\n",
    "    prompt = (\n",
    "        \"What are the latest fashion trends of 2023 for men in grooming\"\n",
    "        + \" Answer in no more than 200 words.\"\n",
    "    )\n",
    "    llm = Cohere(cohere_api_key=COHERE_API_KEY, model=\"command-xlarge-nightly\")\n",
    "    agent_chain = initialize_agent(\n",
    "        tools,\n",
    "        llm,\n",
    "        agent=AgentType.CONVERSATIONAL_REACT_DESCRIPTION,\n",
    "        # verbose=True,\n",
    "        memory=memory,\n",
    "        handle_parsing_errors=True,\n",
    "    )\n",
    "    response = agent_chain.run(input=prompt)\n",
    "    return {\n",
    "        \"response\": response\n",
    "    }"
   ]
  },
  {
   "cell_type": "code",
   "execution_count": 5,
   "metadata": {},
   "outputs": [],
   "source": [
    "ans = get_chat_output()"
   ]
  },
  {
   "cell_type": "code",
   "execution_count": 6,
   "metadata": {},
   "outputs": [
    {
     "name": "stdout",
     "output_type": "stream",
     "text": [
      "<class 'dict'>\n"
     ]
    }
   ],
   "source": [
    "print(type(ans))"
   ]
  },
  {
   "cell_type": "code",
   "execution_count": 7,
   "metadata": {},
   "outputs": [
    {
     "data": {
      "text/plain": [
       "{'response': \"Men's grooming trends for 2023 include the use of natural, organic products, multi-purpose products, high-quality products, and stylish products. One popular trend is the shadow goatee, which is a goatee that is also complemented by the cheeks. This look is often more effective in making the face appear fuller and is a great choice for men who tend to grow patchy beards.\"}"
      ]
     },
     "execution_count": 7,
     "metadata": {},
     "output_type": "execute_result"
    }
   ],
   "source": [
    "ans"
   ]
  },
  {
   "cell_type": "code",
   "execution_count": null,
   "metadata": {},
   "outputs": [],
   "source": []
  }
 ],
 "metadata": {
  "kernelspec": {
   "display_name": "venv",
   "language": "python",
   "name": "python3"
  },
  "language_info": {
   "codemirror_mode": {
    "name": "ipython",
    "version": 3
   },
   "file_extension": ".py",
   "mimetype": "text/x-python",
   "name": "python",
   "nbconvert_exporter": "python",
   "pygments_lexer": "ipython3",
   "version": "3.9.13"
  },
  "orig_nbformat": 4
 },
 "nbformat": 4,
 "nbformat_minor": 2
}
